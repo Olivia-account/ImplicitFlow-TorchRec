{
 "cells": [
  {
   "cell_type": "code",
   "execution_count": 1,
   "metadata": {},
   "outputs": [
    {
     "name": "stderr",
     "output_type": "stream",
     "text": [
      "d:\\Anaconda\\envs\\cxl\\lib\\site-packages\\tqdm\\auto.py:21: TqdmWarning: IProgress not found. Please update jupyter and ipywidgets. See https://ipywidgets.readthedocs.io/en/stable/user_install.html\n",
      "  from .autonotebook import tqdm as notebook_tqdm\n"
     ]
    }
   ],
   "source": [
    "import torch\n",
    "import torch.nn as nn\n",
    "import torch.optim as optim\n",
    "import pandas as pd\n",
    "from sklearn.model_selection import train_test_split\n",
    "from torch.utils.data import DataLoader, TensorDataset\n",
    "from sklearn.preprocessing import LabelEncoder\n",
    "from sklearn.metrics import roc_auc_score, accuracy_score\n",
    "\n",
    "# 读取数据\n",
    "click_history = pd.read_csv('click_history.csv')\n",
    "news = pd.read_csv('news.csv')\n",
    "user_predict = pd.read_csv('user_predict.csv')"
   ]
  },
  {
   "cell_type": "code",
   "execution_count": 2,
   "metadata": {
    "collapsed": false,
    "pycharm": {
     "name": "#%%\n"
    }
   },
   "outputs": [],
   "source": [
    "device = torch.device(\"cuda:0\" if torch.cuda.is_available() else \"cpu\")"
   ]
  },
  {
   "cell_type": "code",
   "execution_count": 3,
   "metadata": {},
   "outputs": [],
   "source": [
    "# 合并两个表格\n",
    "merged_df = click_history.merge(news, on='news_id', how='left')\n",
    "merged_df = merged_df[['user_id', 'news_id', 'cateory']]\n",
    "\n",
    "# 添加label列\n",
    "merged_df['label'] = 1\n",
    "\n",
    "# 将'news_id', 'category'对应到nc中\n",
    "new_category = merged_df[['news_id', 'cateory']]\n",
    "new_category.drop_duplicates(subset=['news_id'])\n",
    "nc = new_category.values.tolist()"
   ]
  },
  {
   "cell_type": "code",
   "execution_count": 4,
   "metadata": {},
   "outputs": [],
   "source": [
    "# 隐式反馈模型\n",
    "class ImplicitFeedbackModel(nn.Module):\n",
    "    def __init__(self, num_users, num_news, num_categories, embedding_dim):\n",
    "        super(ImplicitFeedbackModel, self).__init__()\n",
    "        self.user_embed = nn.Embedding(num_users, embedding_dim)\n",
    "        self.news_embed = nn.Embedding(num_news, embedding_dim)\n",
    "        self.category_embed = nn.Embedding(num_categories, embedding_dim)\n",
    "        self.fc1 = nn.Linear(3 * embedding_dim, 64)\n",
    "        self.fc2 = nn.Linear(64, 1)\n",
    "\n",
    "    def forward(self, user_ids, news_ids, category_ids):\n",
    "        user_emb = self.user_embed(user_ids)\n",
    "        news_emb = self.news_embed(news_ids)\n",
    "        category_emb = self.category_embed(category_ids)\n",
    "        x = torch.cat([user_emb, news_emb, category_emb], dim=1)\n",
    "        x = torch.relu(self.fc1(x))\n",
    "        x = self.fc2(x)\n",
    "        return x"
   ]
  },
  {
   "cell_type": "code",
   "execution_count": 5,
   "metadata": {
    "collapsed": false,
    "pycharm": {
     "name": "#%%\n"
    }
   },
   "outputs": [],
   "source": [
    "import torch\n",
    "import torch.nn as nn\n",
    "\n",
    "class AnotherImplicitFeedbackModel(nn.Module):\n",
    "    def __init__(self, num_users, num_news, num_categories, embedding_dim):\n",
    "        super(AnotherImplicitFeedbackModel, self).__init__()\n",
    "        self.user_embed = nn.Embedding(num_users, embedding_dim)\n",
    "        self.news_embed = nn.Embedding(num_news, embedding_dim)\n",
    "        self.category_embed = nn.Embedding(num_categories, embedding_dim)\n",
    "        self.fc1 = nn.Linear(3 * embedding_dim, 64)\n",
    "        self.fc2 = nn.Linear(64, 1)\n",
    "\n",
    "    def forward(self, user_ids, news_ids, category_ids):\n",
    "        user_emb = self.user_embed(user_ids)\n",
    "        news_emb = self.news_embed(news_ids)\n",
    "        category_emb = self.category_embed(category_ids)\n",
    "        x = torch.cat([user_emb, news_emb, category_emb], dim=1)\n",
    "        x = torch.relu(self.fc1(x))\n",
    "        x = self.fc2(x)\n",
    "        return x\n"
   ]
  },
  {
   "cell_type": "code",
   "execution_count": 6,
   "metadata": {},
   "outputs": [],
   "source": [
    "batch_size = 4  # 每批处理的行数\n",
    "\n",
    "# 计算需要多少批次\n",
    "num_rows = len(merged_df)\n",
    "num_batches = num_rows // batch_size + 1\n",
    "\n",
    "# 模型超参数\n",
    "num_users = merged_df['user_id'].nunique()\n",
    "num_news = merged_df['news_id'].nunique()\n",
    "num_categories = merged_df['cateory'].nunique()\n",
    "embedding_dim = 32"
   ]
  },
  {
   "cell_type": "code",
   "execution_count": 7,
   "metadata": {
    "collapsed": false,
    "pycharm": {
     "name": "#%%\n"
    }
   },
   "outputs": [],
   "source": [
    "train_losses, test_accuracies = [], []\n",
    "train_losses1, test_accuracies1 = [], []"
   ]
  },
  {
   "cell_type": "code",
   "execution_count": 17,
   "metadata": {},
   "outputs": [],
   "source": [
    "acc=[]"
   ]
  },
  {
   "cell_type": "code",
   "execution_count": 8,
   "metadata": {},
   "outputs": [
    {
     "name": "stdout",
     "output_type": "stream",
     "text": [
      "当前正在训练批次： 13\n",
      "tensor([0., 0., 0.,  ..., 0., 0., 0.])\n",
      "AUC: 0.9895583416529858\n",
      "准确率: 0.997409279856196\n",
      "当前正在训练批次： 14\n",
      "tensor([0., 0., 0.,  ..., 0., 0., 0.])\n",
      "AUC: 0.9959386510136871\n",
      "准确率: 0.9985664532075048\n",
      "当前正在训练批次： 15\n",
      "tensor([0., 0., 0.,  ..., 0., 0., 0.])\n",
      "AUC: 0.9673083375308985\n",
      "准确率: 0.9946163352432311\n",
      "当前正在训练批次： 16\n",
      "tensor([0., 0., 0.,  ..., 0., 0., 0.])\n",
      "AUC: 0.892656144058607\n",
      "准确率: 0.9973306370070778\n",
      "当前正在训练批次： 17\n",
      "tensor([0., 0., 0.,  ..., 0., 0., 0.])\n",
      "AUC: 0.7714703154892188\n",
      "准确率: 0.9998921469497809\n",
      "当前正在训练批次： 18\n",
      "tensor([0., 0., 0.,  ..., 0., 0., 0.])\n",
      "AUC: 0.41512220573578235\n",
      "准确率: 0.9994607347489046\n",
      "当前正在训练批次： 19\n",
      "tensor([0., 0., 0.,  ..., 0., 0., 0.])\n",
      "AUC: 0.9543684179257114\n",
      "准确率: 0.9986046511627907\n",
      "当前正在训练批次： 20\n",
      "tensor([0., 0., 0.,  ..., 0., 0., 0.])\n",
      "AUC: 0.945109285895556\n",
      "准确率: 0.9973328839456241\n",
      "当前正在训练批次： 21\n",
      "tensor([0., 0., 0.,  ..., 0., 0., 0.])\n",
      "AUC: 0.5014272350682996\n",
      "准确率: 0.9981020830649486\n",
      "当前正在训练批次： 22\n",
      "tensor([0., 0., 0.,  ..., 0., 0., 0.])\n",
      "AUC: 0.9812162362098144\n",
      "准确率: 0.9972969329288844\n"
     ]
    }
   ],
   "source": [
    "import tqdm\n",
    "\n",
    "# 分批处理数据\n",
    "for i in range(1, 24):\n",
    "    print('当前正在训练批次：', i)\n",
    "    start = i * batch_size\n",
    "    end = (i + 1) * batch_size\n",
    "\n",
    "    # 提取当前批次的数据\n",
    "    batch_data = merged_df.iloc[start:end]\n",
    "\n",
    "    users = batch_data['user_id'].unique()\n",
    "    # new_category = news['news_id']\n",
    "    all_combinations = pd.DataFrame([(user, n, c) for user in users for n, c in nc],\n",
    "                                    columns=['user_id', 'news_id', 'cateory'])\n",
    "\n",
    "    # 将所有组合的数据框与原始数据合并，并添加 \"label\" 列\n",
    "    batch_data = pd.merge(all_combinations, batch_data, on=['user_id', 'news_id', 'cateory'], how='left')\n",
    "    batch_data['label'] = batch_data['label'].apply(lambda x: 1 if x == 1 else 0)\n",
    "\n",
    "    # 数据预处理：将用户ID、新闻ID、类别特征进行标签编码\n",
    "    user_encoder = LabelEncoder()\n",
    "    news_encoder = LabelEncoder()\n",
    "    category_encoder = LabelEncoder()\n",
    "\n",
    "    batch_data['user_id'] = user_encoder.fit_transform(batch_data['user_id'])\n",
    "    batch_data['news_id'] = news_encoder.fit_transform(batch_data['news_id'])\n",
    "    batch_data['cateory'] = category_encoder.fit_transform(batch_data['cateory'])\n",
    "\n",
    "    # 划分训练集和测试集\n",
    "    X = batch_data[['user_id', 'news_id', 'cateory']].values\n",
    "    y = batch_data['label'].values  # 假设 'label' 是点击/不点击的标签\n",
    "\n",
    "    X_train, X_test, y_train, y_test = train_test_split(X, y, test_size=0.2, random_state=42)\n",
    "    # print(X_train.T.shape)\n",
    "    # print(X_train.shape)\n",
    "    try:\n",
    "        # 加载模型\n",
    "        model = ImplicitFeedbackModel(num_users, num_news, num_categories, embedding_dim).to(device)\n",
    "        model.load_state_dict(torch.load('model_weights1.pth'))\n",
    "    except:\n",
    "        # 创建模型实例\n",
    "        model = ImplicitFeedbackModel(num_users, num_news, num_categories, embedding_dim).to(device)\n",
    "\n",
    "    # 损失函数和优化器\n",
    "    criterion = nn.BCEWithLogitsLoss()\n",
    "    optimizer = optim.Adam(model.parameters(), lr=0.001)\n",
    "    # 训练模型\n",
    "    num_epochs = 10\n",
    "    for epoch in range(num_epochs):\n",
    "        model.train()\n",
    "        optimizer.zero_grad()\n",
    "        inputs = torch.LongTensor(X_train).to(device)\n",
    "        labels = torch.FloatTensor(y_train).to(device)\n",
    "        labels = labels.view(-1, 1)\n",
    "        outputs = model(*inputs.T)\n",
    "        loss = criterion(outputs, labels)\n",
    "        loss.backward()\n",
    "        optimizer.step()\n",
    "        train_losses.append(loss.item())\n",
    "    # 模型评估\n",
    "    model.eval()\n",
    "    with torch.no_grad():\n",
    "        inputs = torch.LongTensor(X_test).to(device)\n",
    "        labels = torch.FloatTensor(y_test).to(\"cpu\")\n",
    "        outputs = model(*inputs.T)\n",
    "        predictions = torch.sigmoid(outputs).cpu()\n",
    "        # 计算AUC\n",
    "        auc = roc_auc_score(labels, predictions)\n",
    "\n",
    "        # 计算准确率\n",
    "        threshold = 1  \n",
    "        predicted_labels = (predictions > threshold).int()\n",
    "        accuracy = accuracy_score(labels, predicted_labels)\n",
    "        test_accuracies.append(accuracy)\n",
    "        # 打印评估指标\n",
    "        print(labels)\n",
    "        # acc.append(labels==predicted_labels)\n",
    "        print(f'AUC: {auc}')\n",
    "        print(f'准确率: {accuracy}')\n",
    "\n",
    "    # 保存模型\n",
    "    torch.save(model.state_dict(), 'model_weights1.pth')\n",
    "\n",
    "    # 在处理完当前批次后，可以释放内存\n",
    "    del batch_data\n",
    "    # break\n"
   ]
  },
  {
   "cell_type": "code",
   "execution_count": 9,
   "metadata": {
    "collapsed": false,
    "pycharm": {
     "name": "#%%\n"
    }
   },
   "outputs": [
    {
     "name": "stdout",
     "output_type": "stream",
     "text": [
      "当前正在训练批次： 25\n",
      "AUC: 0.9216359849692841\n",
      "准确率: 0.9978833838894506\n",
      "当前正在训练批次： 26\n",
      "AUC: 0.7718312806676116\n",
      "准确率: 0.9982855858892259\n",
      "当前正在训练批次： 27\n",
      "AUC: 0.9189989290426793\n",
      "准确率: 0.9931782945736434\n",
      "当前正在训练批次： 28\n",
      "AUC: 0.7827566063220036\n",
      "准确率: 0.998939445006179\n",
      "当前正在训练批次： 29\n",
      "AUC: 0.9428072876427114\n",
      "准确率: 0.996312019341676\n",
      "当前正在训练批次： 30\n",
      "AUC: 0.9503576229086315\n",
      "准确率: 0.9974939107874183\n",
      "当前正在训练批次： 31\n",
      "AUC: 0.9494896509831555\n",
      "准确率: 0.9988495674643298\n",
      "当前正在训练批次： 32\n",
      "AUC: 0.565269097241728\n",
      "准确率: 0.9999438265363443\n",
      "当前正在训练批次： 33\n",
      "AUC: 0.8875952463652086\n",
      "准确率: 0.9944635434220874\n",
      "当前正在训练批次： 34\n",
      "AUC: 0.907619406660929\n",
      "准确率: 0.9970744860128076\n"
     ]
    }
   ],
   "source": [
    "import tqdm\n",
    "batch_size = 4\n",
    "# 分批处理数据\n",
    "for i in range(25, 50):\n",
    "    print('当前正在训练批次：', i)\n",
    "    start = i * batch_size\n",
    "    end = (i + 1) * batch_size\n",
    "\n",
    "    # 提取当前批次的数据\n",
    "    batch_data = merged_df.iloc[start:end]\n",
    "\n",
    "    users = batch_data['user_id'].unique()\n",
    "    # new_category = news['news_id']\n",
    "    all_combinations = pd.DataFrame([(user, n, c) for user in users for n, c in nc],\n",
    "                                    columns=['user_id', 'news_id', 'cateory'])\n",
    "\n",
    "    # 将所有组合的数据框与原始数据合并，并添加 \"label\" 列\n",
    "    batch_data = pd.merge(all_combinations, batch_data, on=['user_id', 'news_id', 'cateory'], how='left')\n",
    "    batch_data['label'] = batch_data['label'].apply(lambda x: 1 if x == 1 else 0)\n",
    "\n",
    "    # 数据预处理：将用户ID、新闻ID、类别特征进行标签编码\n",
    "    user_encoder = LabelEncoder()\n",
    "    news_encoder = LabelEncoder()\n",
    "    category_encoder = LabelEncoder()\n",
    "\n",
    "    batch_data['user_id'] = user_encoder.fit_transform(batch_data['user_id'])\n",
    "    batch_data['news_id'] = news_encoder.fit_transform(batch_data['news_id'])\n",
    "    batch_data['cateory'] = category_encoder.fit_transform(batch_data['cateory'])\n",
    "\n",
    "    # 划分训练集和测试集\n",
    "    X = batch_data[['user_id', 'news_id', 'cateory']].values\n",
    "    y = batch_data['label'].values  # 假设 'label' 是点击/不点击的标签\n",
    "\n",
    "    X_train, X_test, y_train, y_test = train_test_split(X, y, test_size=0.2, random_state=42)\n",
    "    # print(X_train.T.shape)\n",
    "    # print(X_train.shape)\n",
    "    try:\n",
    "        # 加载模型\n",
    "        model1 = AnotherImplicitFeedbackModel(num_users, num_news, num_categories, embedding_dim).to(device)\n",
    "        model1.load_state_dict(torch.load('model_weights2.pth'))\n",
    "    except:\n",
    "        # 创建模型实例\n",
    "        model1 = AnotherImplicitFeedbackModel(num_users, num_news, num_categories, embedding_dim).to(device)\n",
    "\n",
    "    # 损失函数和优化器\n",
    "    criterion = nn.BCEWithLogitsLoss()\n",
    "    optimizer = optim.Adam(model1.parameters(), lr=0.001)\n",
    "    # 训练模型\n",
    "    num_epochs = 10\n",
    "    for epoch in range(num_epochs):\n",
    "        model1.train()\n",
    "        optimizer.zero_grad()\n",
    "        inputs = torch.LongTensor(X_train).to(device)\n",
    "        labels = torch.FloatTensor(y_train).to(device)\n",
    "        labels = labels.view(-1, 1)\n",
    "        outputs = model1(*inputs.T)\n",
    "        loss = criterion(outputs, labels)\n",
    "        loss.backward()\n",
    "        optimizer.step()\n",
    "        train_losses1.append(loss.item())\n",
    "    # 模型评估\n",
    "    model1.eval()\n",
    "    with torch.no_grad():\n",
    "        inputs = torch.LongTensor(X_test).to(device)\n",
    "        labels = torch.FloatTensor(y_test).to(device)\n",
    "        outputs = model1(*inputs.T)\n",
    "        predictions = torch.sigmoid(outputs).cpu()\n",
    "    # 计算AUC\n",
    "    auc = roc_auc_score(y_test, predictions)\n",
    "    # 计算准确率\n",
    "    threshold = 1  # 设置一个阈值，通常是0.5\n",
    "    predicted_labels = (predictions > threshold).int()\n",
    "    accuracy = accuracy_score(y_test, predicted_labels)\n",
    "    # print(\"真实值:\",y_test)\n",
    "    # print(\"预测值:\",predictions)\n",
    "    # print(set(predicted_labels))\n",
    "    test_accuracies1.append(accuracy)\n",
    "    # 打印评估指标\n",
    "    print(f'AUC: {auc}')\n",
    "    print(f'准确率: {accuracy}')\n",
    "\n",
    "    # 保存模型\n",
    "    torch.save(model1.state_dict(), 'model_weights2.pth')\n",
    "\n",
    "    # 在处理完当前批次后，可以释放内存\n",
    "    del batch_data\n",
    "    # break\n"
   ]
  },
  {
   "cell_type": "code",
   "execution_count": 15,
   "metadata": {
    "collapsed": false,
    "pycharm": {
     "name": "#%%\n"
    }
   },
   "outputs": [
    {
     "data": {
      "image/png": "[encoded data removed]",
      "text/plain": [
       "<Figure size 1200x500 with 2 Axes>"
      ]
     },
     "metadata": {},
     "output_type": "display_data"
    }
   ],
   "source": [
    "import matplotlib.pyplot as plt\n",
    "\n",
    "# 绘制训练和测试的损失曲线\n",
    "plt.figure(figsize=(12, 5))\n",
    "plt.subplot(1, 2, 1)\n",
    "plt.plot(sorted(train_losses,reverse=True), label='model Loss')\n",
    "plt.plot(sorted(train_losses1,reverse=True), label='model1 Loss')\n",
    "plt.xlabel('Epoch')\n",
    "plt.ylabel('Loss')\n",
    "plt.legend()\n",
    "\n",
    "# 绘制训练和测试的准确度曲线\n",
    "plt.subplot(1, 2, 2)\n",
    "plt.plot(sorted(test_accuracies), label='model Accuracy')\n",
    "plt.plot(sorted(test_accuracies1), label='model1 Accuracy')\n",
    "plt.xlabel('Epoch')\n",
    "plt.ylabel('Accuracy')\n",
    "plt.legend()\n",
    "\n",
    "plt.show()"
   ]
  },
  {
   "cell_type": "code",
   "execution_count": 11,
   "metadata": {},
   "outputs": [
    {
     "data": {
      "text/plain": [
       "ImplicitFeedbackModel(\n",
       "  (user_embed): Embedding(200000, 32)\n",
       "  (news_embed): Embedding(31116, 32)\n",
       "  (category_embed): Embedding(290, 32)\n",
       "  (fc1): Linear(in_features=96, out_features=64, bias=True)\n",
       "  (fc2): Linear(in_features=64, out_features=1, bias=True)\n",
       ")"
      ]
     },
     "execution_count": 11,
     "metadata": {},
     "output_type": "execute_result"
    }
   ],
   "source": [
    "# 加载模型\n",
    "loaded_model = ImplicitFeedbackModel(num_users, num_news, num_categories, embedding_dim)\n",
    "loaded_model.load_state_dict(torch.load('model_weights1.pth'))\n",
    "loaded_model.eval()"
   ]
  },
  {
   "cell_type": "code",
   "execution_count": 21,
   "metadata": {},
   "outputs": [
    {
     "name": "stdout",
     "output_type": "stream",
     "text": [
      "216\n"
     ]
    }
   ],
   "source": [
    "count = 0\n",
    "# 遍历 'user_predict' 中的每个用户\n",
    "for user_id in user_predict['user_id']:\n",
    "\n",
    "    # 提取当前批次的数据\n",
    "    data = merged_df[['user_id', 'news_id', 'cateory']].copy()\n",
    "\n",
    "    users = data['user_id'].unique()\n",
    "    # new_category = news['news_id']\n",
    "    all_combinations = pd.DataFrame([(user_id, n, c) for n, c in nc], columns=['user_id', 'news_id', 'cateory'])\n",
    "    data = pd.merge(all_combinations, data, on=['user_id', 'news_id', 'cateory'], how='left')\n",
    "\n",
    "    # 数据预处理：将用户ID、新闻ID、类别特征进行标签编码\n",
    "    user_encoder = LabelEncoder()\n",
    "    news_encoder = LabelEncoder()\n",
    "    category_encoder = LabelEncoder()\n",
    "\n",
    "    data['user_id'] = user_encoder.fit_transform(data['user_id'])\n",
    "    data['news_id'] = news_encoder.fit_transform(data['news_id'])\n",
    "    data['cateory'] = category_encoder.fit_transform(data['cateory'])\n",
    "\n",
    "    new_inputs = torch.LongTensor(data.values)\n",
    "    with torch.no_grad():\n",
    "        new_outputs = loaded_model(new_inputs[:, 0], new_inputs[:, 1], new_inputs[:, 2])\n",
    "        new_predictions = torch.sigmoid(new_outputs)\n",
    "\n",
    "    # 打印新数据的预测结果\n",
    "    # print(new_predictions)\n",
    "    data['predict'] = new_predictions\n",
    "    # 根据predict列进行降序排序\n",
    "    tmp_sorted = data.sort_values(by='predict', ascending=False)\n",
    "    top_50_news_ids = tmp_sorted.head(50)['news_id']\n",
    "\n",
    "    # 打印结果\n",
    "    # print(top_50_news_ids)\n",
    "\n",
    "    # 筛选click_history中user_id的数据\n",
    "    click_history_filtered = click_history[click_history['user_id'] == user_id]\n",
    "\n",
    "    # 遍历top_50_news_ids，查看是否在click_history_filtered的news_id中\n",
    "    for news_id in top_50_news_ids:\n",
    "        if news_id in click_history_filtered['news_id'].values:\n",
    "            count += 1\n",
    "        else:\n",
    "            continue\n",
    "\n",
    "print(count)"
   ]
  }
 ],
 "metadata": {
  "kernelspec": {
   "display_name": "base",
   "language": "python",
   "name": "python3"
  },
  "language_info": {
   "codemirror_mode": {
    "name": "ipython",
    "version": 3
   },
   "file_extension": ".py",
   "mimetype": "text/x-python",
   "name": "python",
   "nbconvert_exporter": "python",
   "pygments_lexer": "ipython3",
   "version": "3.8.17"
  }
 },
 "nbformat": 4,
 "nbformat_minor": 2
}
